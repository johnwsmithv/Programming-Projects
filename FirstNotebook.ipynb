{
 "cells": [
  {
   "cell_type": "code",
   "execution_count": 1,
   "id": "2eeaf60c-ff1e-409e-9136-3ecaaafb2d88",
   "metadata": {},
   "outputs": [],
   "source": [
    "import numpy as np"
   ]
  },
  {
   "cell_type": "code",
   "execution_count": 8,
   "id": "43d29dbc-8ca6-4e0f-962f-d77b9e27fef7",
   "metadata": {},
   "outputs": [],
   "source": [
    "one = np.array([[1+2j, 3-4j], [5+6j, 7-8j]])\n",
    "two = np.array([[9+10j, 11-12j], [13+14j, 15-16j]])\n",
    "three = np.array([[17+18j, 19-20j], [21+22j, 23-24j]])"
   ]
  },
  {
   "cell_type": "code",
   "execution_count": 9,
   "id": "94e02cff-bc82-4912-a7b0-626c3241633d",
   "metadata": {},
   "outputs": [
    {
     "data": {
      "text/plain": [
       "array([[-11. +28.j, -15. -80.j],\n",
       "       [-19.+148.j, -23.-232.j]])"
      ]
     },
     "execution_count": 9,
     "metadata": {},
     "output_type": "execute_result"
    }
   ],
   "source": [
    "one * two"
   ]
  },
  {
   "cell_type": "code",
   "execution_count": null,
   "id": "3de48355-d350-45ad-8287-cabd7b3600ee",
   "metadata": {},
   "outputs": [],
   "source": [
    "one.con"
   ]
  }
 ],
 "metadata": {
  "kernelspec": {
   "display_name": "Python 3",
   "language": "python",
   "name": "python3"
  },
  "language_info": {
   "codemirror_mode": {
    "name": "ipython",
    "version": 3
   },
   "file_extension": ".py",
   "mimetype": "text/x-python",
   "name": "python",
   "nbconvert_exporter": "python",
   "pygments_lexer": "ipython3",
   "version": "3.9.7"
  }
 },
 "nbformat": 4,
 "nbformat_minor": 5
}
